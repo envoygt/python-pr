{
 "cells": [
  {
   "cell_type": "code",
   "execution_count": 13,
   "metadata": {},
   "outputs": [],
   "source": [
    "import random\n",
    "import time\n",
    "import datetime\n",
    "import math\n",
    "\n",
    "\n",
    "class Sensor:\n",
    "\n",
    "    unique_id = 1000\n",
    "\n",
    "    def __init__(self, name):\n",
    "        self.id = Sensor.unique_id\n",
    "        Sensor.unique_id += 1\n",
    "        self.name = name\n",
    "        self.last_update = 0\n",
    "        self.value = 0\n",
    "\n",
    "    def update_value(self):\n",
    "        self.last_update = time.time()\n",
    "\n",
    "    def get_value(self):\n",
    "        return self.value\n",
    "\n",
    "    def get_info(self):\n",
    "        return f\"ID: {self.id} | Name: {self.name} | Type: {type(self).__name__} | Last update time: {datetime.datetime.fromtimestamp(self.last_update).strftime('%Y-%m-%d %H:%M:%S')} | Current value: {self.value}\"\n",
    "\n",
    "    def __str__(self):\n",
    "        return self.get_info()\n",
    "\n",
    "    def __repr__(self):\n",
    "        return f\"[{self.id}, {self.name}, {type(self).__name__}, {self.last_update}, {self.value}]\"\n",
    "\n",
    "\n",
    "class TemperatureSensor(Sensor):\n",
    "    def update_value(self):\n",
    "        super().update_value()\n",
    "        self.value = random.uniform(-30.0, 40.0)\n",
    "\n",
    "    def get_temp_celcius(self):\n",
    "        return self.value\n",
    "\n",
    "    def get_temp_fahrenheit(self):\n",
    "        return self.value * 1.8 + 32\n",
    "\n",
    "\n",
    "class HumiditySensor(Sensor):\n",
    "    def update_value(self):\n",
    "        super().update_value()\n",
    "        self.value = random.uniform(0.0, 100.0)\n",
    "\n",
    "\n",
    "class MagneticSensor(Sensor):\n",
    "    def update_value(self):\n",
    "        super().update_value()\n",
    "        self.value_x = random.uniform(-1.0, 1.0)\n",
    "        self.value_y = random.uniform(-1.0, 1.0)\n",
    "        self.value_z = random.uniform(-1.0, 1.0)\n",
    "        self.value = [self.value_x, self.value_y, self.value_z]\n",
    "\n",
    "    def get_heading(self):\n",
    "        angle = math.degrees(math.atan2(self.value_x, self.value_y))\n",
    "        if angle < 0: angle += 360\n",
    "        return angle\n",
    "\n",
    "\n",
    "class SensorStorage:\n",
    "    def __init__(self):\n",
    "        self.list = []\n",
    "\n",
    "    def add_sensor(self, sensor):\n",
    "        self.list.append(sensor)\n",
    "        return self\n",
    "\n",
    "    def update_sensors(self):\n",
    "        for sensor in self.list:\n",
    "            sensor.update_value()\n",
    "\n",
    "    def print_info(self):\n",
    "        print(\":::::SENSORS INFO::::::\")\n",
    "        for sensor in self.list:\n",
    "            print(sensor.get_info())\n",
    "        print(\"::::::::::\")\n"
   ]
  },
  {
   "cell_type": "code",
   "execution_count": 14,
   "metadata": {},
   "outputs": [
    {
     "name": "stdout",
     "output_type": "stream",
     "text": [
      "C*: -9.317544223438265\n",
      "F*: 15.22842039781112\n",
      "ID: 1000 | Name: temp | Type: TemperatureSensor | Last update time: 2022-11-08 08:37:52 | Current value: -9.317544223438265\n",
      "[1000, temp, TemperatureSensor, 1667878672.6964633, -9.317544223438265]\n"
     ]
    }
   ],
   "source": [
    "temp = TemperatureSensor(\"temp\")\n",
    "temp.update_value()\n",
    "print(f\"C*: {temp.get_temp_celcius()}\")\n",
    "print(f\"F*: {temp.get_temp_fahrenheit()}\")\n",
    "print(str(temp))\n",
    "print(repr(temp))"
   ]
  },
  {
   "cell_type": "code",
   "execution_count": 15,
   "metadata": {},
   "outputs": [
    {
     "name": "stdout",
     "output_type": "stream",
     "text": [
      "ID: 1001 | Name: humidity | Type: HumiditySensor | Last update time: 2022-11-08 08:37:52 | Current value: 51.466654259887946\n"
     ]
    }
   ],
   "source": [
    "humidity = HumiditySensor(\"humidity\")\n",
    "humidity.update_value()\n",
    "print(humidity)"
   ]
  },
  {
   "cell_type": "code",
   "execution_count": 16,
   "metadata": {},
   "outputs": [
    {
     "name": "stdout",
     "output_type": "stream",
     "text": [
      "ID: 1002 | Name: magnetometer | Type: MagneticSensor | Last update time: 2022-11-08 08:37:52 | Current value: [-0.43680297093670295, 0.3236927068785942, 0.33845703251317616]\n",
      "306.5402836601287\n"
     ]
    }
   ],
   "source": [
    "magnetic = MagneticSensor(\"magnetometer\")\n",
    "magnetic.update_value()\n",
    "print(magnetic)\n",
    "print(magnetic.get_heading())"
   ]
  },
  {
   "cell_type": "code",
   "execution_count": 17,
   "metadata": {},
   "outputs": [
    {
     "name": "stdout",
     "output_type": "stream",
     "text": [
      ":::::SENSORS INFO::::::\n",
      "ID: 1000 | Name: temp | Type: TemperatureSensor | Last update time: 2022-11-08 08:37:52 | Current value: 26.59570365326215\n",
      "ID: 1003 | Name: temp2 | Type: TemperatureSensor | Last update time: 2022-11-08 08:37:52 | Current value: -4.606621094701442\n",
      "ID: 1004 | Name: temp3 | Type: TemperatureSensor | Last update time: 2022-11-08 08:37:52 | Current value: -8.996013411417632\n",
      "ID: 1005 | Name: temp4 | Type: TemperatureSensor | Last update time: 2022-11-08 08:37:52 | Current value: -14.92076340650842\n",
      "ID: 1001 | Name: humidity | Type: HumiditySensor | Last update time: 2022-11-08 08:37:52 | Current value: 84.54839824403633\n",
      "ID: 1006 | Name: humidity2 | Type: HumiditySensor | Last update time: 2022-11-08 08:37:52 | Current value: 82.73639062264915\n",
      "ID: 1002 | Name: magnetometer | Type: MagneticSensor | Last update time: 2022-11-08 08:37:52 | Current value: [-0.4711112876159431, 0.9471945720848214, -0.8314321165322609]\n",
      "ID: 1007 | Name: magnetometer2 | Type: MagneticSensor | Last update time: 2022-11-08 08:37:52 | Current value: [0.654236179111932, 0.044382331299813504, -0.06487931065625707]\n",
      "::::::::::\n"
     ]
    }
   ],
   "source": [
    "storage = SensorStorage()\n",
    "storage.add_sensor(temp)\n",
    "storage.add_sensor(TemperatureSensor(\"temp2\"))\n",
    "storage.add_sensor(TemperatureSensor(\"temp3\"))\n",
    "storage.add_sensor(TemperatureSensor(\"temp4\"))\n",
    "storage.add_sensor(humidity)\n",
    "storage.add_sensor(HumiditySensor(\"humidity2\"))\n",
    "storage.add_sensor(magnetic)\n",
    "storage.add_sensor(MagneticSensor(\"magnetometer2\"))\n",
    "storage.update_sensors()\n",
    "storage.print_info()\n"
   ]
  },
  {
   "cell_type": "code",
   "execution_count": 18,
   "metadata": {},
   "outputs": [
    {
     "name": "stdout",
     "output_type": "stream",
     "text": [
      ":::::SENSORS INFO::::::\n",
      "ID: 1000 | Name: temp | Type: TemperatureSensor | Last update time: 2022-11-08 08:37:55 | Current value: -2.6810097101772428\n",
      "ID: 1003 | Name: temp2 | Type: TemperatureSensor | Last update time: 2022-11-08 08:37:55 | Current value: -17.457788252022112\n",
      "ID: 1004 | Name: temp3 | Type: TemperatureSensor | Last update time: 2022-11-08 08:37:55 | Current value: 11.61763946793345\n",
      "ID: 1005 | Name: temp4 | Type: TemperatureSensor | Last update time: 2022-11-08 08:37:55 | Current value: 36.09944295438932\n",
      "ID: 1001 | Name: humidity | Type: HumiditySensor | Last update time: 2022-11-08 08:37:55 | Current value: 9.78949935663137\n",
      "ID: 1006 | Name: humidity2 | Type: HumiditySensor | Last update time: 2022-11-08 08:37:55 | Current value: 81.3168151033054\n",
      "ID: 1002 | Name: magnetometer | Type: MagneticSensor | Last update time: 2022-11-08 08:37:55 | Current value: [0.7581348537753725, -0.7524667286086946, 0.28314334488340687]\n",
      "ID: 1007 | Name: magnetometer2 | Type: MagneticSensor | Last update time: 2022-11-08 08:37:55 | Current value: [0.20649442015746167, 0.5653857764374706, 0.9967319180051382]\n",
      "::::::::::\n"
     ]
    }
   ],
   "source": [
    "time.sleep(3)\n",
    "storage.update_sensors()\n",
    "storage.print_info()"
   ]
  }
 ],
 "metadata": {
  "kernelspec": {
   "display_name": "Python 3.10.7 64-bit",
   "language": "python",
   "name": "python3"
  },
  "language_info": {
   "codemirror_mode": {
    "name": "ipython",
    "version": 3
   },
   "file_extension": ".py",
   "mimetype": "text/x-python",
   "name": "python",
   "nbconvert_exporter": "python",
   "pygments_lexer": "ipython3",
   "version": "3.10.7"
  },
  "orig_nbformat": 4,
  "vscode": {
   "interpreter": {
    "hash": "42677d45e0b3938daefa4dc66435331f25031b22c120654c7acc930adfc84270"
   }
  }
 },
 "nbformat": 4,
 "nbformat_minor": 2
}
