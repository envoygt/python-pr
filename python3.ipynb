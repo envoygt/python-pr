{
 "cells": [
  {
   "cell_type": "code",
   "execution_count": 160,
   "metadata": {},
   "outputs": [],
   "source": [
    "import random\n",
    "import time\n",
    "import datetime\n",
    "import math\n",
    "\n",
    "\n",
    "class Sensor:\n",
    "\n",
    "    unique_id = 1000\n",
    "\n",
    "    def __init__(self, name):\n",
    "        self.id = Sensor.unique_id\n",
    "        Sensor.unique_id += 1\n",
    "        self.name = name\n",
    "        self.last_update = 0\n",
    "        self.value = 0\n",
    "\n",
    "    def update_value(self):\n",
    "        self.last_update = time.time()\n",
    "\n",
    "    def get_value(self):\n",
    "        return self.value\n",
    "\n",
    "    def get_info(self):\n",
    "        return f\"ID: {self.id} | Name: {self.name} | Type: {type(self).__name__} | Last update time: {datetime.datetime.fromtimestamp(self.last_update).strftime('%Y-%m-%d %H:%M:%S')} | Current value: {self.value}\"\n",
    "\n",
    "    def __str__(self):\n",
    "        return self.get_info()\n",
    "\n",
    "    def __repr__(self):\n",
    "        return f\"[{self.id}, {self.name}, {type(self).__name__}, {self.last_update}, {self.value}]\"\n",
    "\n",
    "\n",
    "class TemperatureSensor(Sensor):\n",
    "    def update_value(self):\n",
    "        super().update_value()\n",
    "        self.value = random.uniform(-30.0, 40.0)\n",
    "\n",
    "    def get_temp_celcius(self):\n",
    "        return self.value\n",
    "\n",
    "    def get_temp_fahrenheit(self):\n",
    "        return self.value * 1.8 + 32\n",
    "\n",
    "\n",
    "class HumiditySensor(Sensor):\n",
    "    def update_value(self):\n",
    "        super().update_value()\n",
    "        self.value = random.uniform(0.0, 100.0)\n",
    "\n",
    "\n",
    "class MagneticSensor(Sensor):\n",
    "    def update_value(self):\n",
    "        super().update_value()\n",
    "        self.value_x = random.uniform(-1.0, 1.0)\n",
    "        self.value_y = random.uniform(-1.0, 1.0)\n",
    "        self.value_z = random.uniform(-1.0, 1.0)\n",
    "        self.value = [self.value_x, self.value_y, self.value_z]\n",
    "\n",
    "    def get_heading(self):\n",
    "        angle = math.degrees(math.atan2(self.value_x, self.value_y))\n",
    "        if angle < 0: angle += 360\n",
    "        return angle\n",
    "\n",
    "\n",
    "class SensorStorage:\n",
    "    def __init__(self):\n",
    "        self.list = []\n",
    "\n",
    "    def add_sensor(self, sensor):\n",
    "        self.list.append(sensor)\n",
    "        return self\n",
    "\n",
    "    def update_sensors(self):\n",
    "        for sensor in self.list:\n",
    "            sensor.update_value()\n",
    "\n",
    "    def print_info(self):\n",
    "        print(\":::::SENSORS INFO::::::\")\n",
    "        for sensor in self.list:\n",
    "            print(sensor.get_info())\n",
    "        print(\"::::::::::\")\n"
   ]
  },
  {
   "cell_type": "code",
   "execution_count": 161,
   "metadata": {},
   "outputs": [
    {
     "name": "stdout",
     "output_type": "stream",
     "text": [
      "ID: 1000 | Name: temp | Type: TemperatureSensor | Last update time: 2022-11-08 08:32:39 | Current value: 12.487803159200354\n",
      "[1000, temp, TemperatureSensor, 1667878359.0043259, 12.487803159200354]\n"
     ]
    }
   ],
   "source": [
    "temp = TemperatureSensor(\"temp\")\n",
    "temp.update_value()\n",
    "print(str(temp))\n",
    "print(repr(temp))"
   ]
  },
  {
   "cell_type": "code",
   "execution_count": 162,
   "metadata": {},
   "outputs": [
    {
     "name": "stdout",
     "output_type": "stream",
     "text": [
      "ID: 1001 | Name: humidity | Type: HumiditySensor | Last update time: 2022-11-08 08:32:39 | Current value: 35.3346788774901\n"
     ]
    }
   ],
   "source": [
    "humidity = HumiditySensor(\"humidity\")\n",
    "humidity.update_value()\n",
    "print(humidity)"
   ]
  },
  {
   "cell_type": "code",
   "execution_count": 163,
   "metadata": {},
   "outputs": [
    {
     "name": "stdout",
     "output_type": "stream",
     "text": [
      "ID: 1002 | Name: magnetometer | Type: MagneticSensor | Last update time: 2022-11-08 08:32:39 | Current value: [0.6897257661499914, 0.7670360191114121, -0.23154999967354084]\n",
      "41.962166514490626\n"
     ]
    }
   ],
   "source": [
    "magnetic = MagneticSensor(\"magnetometer\")\n",
    "magnetic.update_value()\n",
    "print(magnetic)\n",
    "print(magnetic.get_heading())"
   ]
  },
  {
   "cell_type": "code",
   "execution_count": 164,
   "metadata": {},
   "outputs": [
    {
     "name": "stdout",
     "output_type": "stream",
     "text": [
      ":::::SENSORS INFO::::::\n",
      "ID: 1000 | Name: temp | Type: TemperatureSensor | Last update time: 2022-11-08 08:32:39 | Current value: 37.13530115286419\n",
      "ID: 1003 | Name: temp2 | Type: TemperatureSensor | Last update time: 2022-11-08 08:32:39 | Current value: -22.466097344401565\n",
      "ID: 1004 | Name: temp3 | Type: TemperatureSensor | Last update time: 2022-11-08 08:32:39 | Current value: -28.487767198000277\n",
      "ID: 1005 | Name: temp4 | Type: TemperatureSensor | Last update time: 2022-11-08 08:32:39 | Current value: -22.500561771554715\n",
      "ID: 1001 | Name: humidity | Type: HumiditySensor | Last update time: 2022-11-08 08:32:39 | Current value: 56.696844661108834\n",
      "ID: 1006 | Name: humidity2 | Type: HumiditySensor | Last update time: 2022-11-08 08:32:39 | Current value: 24.83371096576209\n",
      "ID: 1002 | Name: magnetometer | Type: MagneticSensor | Last update time: 2022-11-08 08:32:39 | Current value: [-0.43141868347806733, 0.8964464570730781, 0.4751110568283987]\n",
      "ID: 1007 | Name: magnetometer2 | Type: MagneticSensor | Last update time: 2022-11-08 08:32:39 | Current value: [-0.6545871335742877, -0.036728781329976146, -0.17221462491556006]\n",
      "::::::::::\n"
     ]
    }
   ],
   "source": [
    "storage = SensorStorage()\n",
    "storage.add_sensor(temp)\n",
    "storage.add_sensor(TemperatureSensor(\"temp2\"))\n",
    "storage.add_sensor(TemperatureSensor(\"temp3\"))\n",
    "storage.add_sensor(TemperatureSensor(\"temp4\"))\n",
    "storage.add_sensor(humidity)\n",
    "storage.add_sensor(HumiditySensor(\"humidity2\"))\n",
    "storage.add_sensor(magnetic)\n",
    "storage.add_sensor(MagneticSensor(\"magnetometer2\"))\n",
    "storage.update_sensors()\n",
    "storage.print_info()\n"
   ]
  },
  {
   "cell_type": "code",
   "execution_count": 165,
   "metadata": {},
   "outputs": [
    {
     "name": "stdout",
     "output_type": "stream",
     "text": [
      ":::::SENSORS INFO::::::\n",
      "ID: 1000 | Name: temp | Type: TemperatureSensor | Last update time: 2022-11-08 08:32:42 | Current value: 4.655130836415481\n",
      "ID: 1003 | Name: temp2 | Type: TemperatureSensor | Last update time: 2022-11-08 08:32:42 | Current value: 24.524433366519567\n",
      "ID: 1004 | Name: temp3 | Type: TemperatureSensor | Last update time: 2022-11-08 08:32:42 | Current value: -10.784044145134963\n",
      "ID: 1005 | Name: temp4 | Type: TemperatureSensor | Last update time: 2022-11-08 08:32:42 | Current value: 32.802889575341815\n",
      "ID: 1001 | Name: humidity | Type: HumiditySensor | Last update time: 2022-11-08 08:32:42 | Current value: 26.893621857671015\n",
      "ID: 1006 | Name: humidity2 | Type: HumiditySensor | Last update time: 2022-11-08 08:32:42 | Current value: 41.50515349030116\n",
      "ID: 1002 | Name: magnetometer | Type: MagneticSensor | Last update time: 2022-11-08 08:32:42 | Current value: [-0.3079980120750003, -0.03509895241572858, 0.3707024406703978]\n",
      "ID: 1007 | Name: magnetometer2 | Type: MagneticSensor | Last update time: 2022-11-08 08:32:42 | Current value: [-0.7357541255125954, -0.8467407674574889, -0.34750395041455895]\n",
      "::::::::::\n"
     ]
    }
   ],
   "source": [
    "time.sleep(3)\n",
    "storage.update_sensors()\n",
    "storage.print_info()"
   ]
  }
 ],
 "metadata": {
  "kernelspec": {
   "display_name": "Python 3.10.7 64-bit",
   "language": "python",
   "name": "python3"
  },
  "language_info": {
   "codemirror_mode": {
    "name": "ipython",
    "version": 3
   },
   "file_extension": ".py",
   "mimetype": "text/x-python",
   "name": "python",
   "nbconvert_exporter": "python",
   "pygments_lexer": "ipython3",
   "version": "3.10.7"
  },
  "orig_nbformat": 4,
  "vscode": {
   "interpreter": {
    "hash": "42677d45e0b3938daefa4dc66435331f25031b22c120654c7acc930adfc84270"
   }
  }
 },
 "nbformat": 4,
 "nbformat_minor": 2
}
