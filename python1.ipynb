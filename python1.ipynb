{
 "cells": [
  {
   "cell_type": "code",
   "execution_count": 216,
   "metadata": {},
   "outputs": [
    {
     "name": "stdout",
     "output_type": "stream",
     "text": [
      "Пользователь Oleg имеет 0$\n",
      "Зачислено 50$, текущее количество денег на счету: 50$\n",
      "Недостаточно денег, для снятия 100$ не хватает 50$\n",
      "Зачислено 49.5$, текущее количество денег на счету: 99.5$\n",
      "Пользователь Oleg имеет 99.5$\n",
      "Недостаточно денег, для снятия 100$ не хватает 0.5$\n",
      "Снято 60$, остаток на счету: 39.5$\n"
     ]
    }
   ],
   "source": [
    "username = \"Oleg\"\n",
    "balance = 0\n",
    "\n",
    "def printBalance():\n",
    "    print(f\"Пользователь {username} имеет {balance}$\")\n",
    "\n",
    "def depositMoney(amount):\n",
    "    global balance\n",
    "    balance = balance + amount\n",
    "    print(f\"Зачислено {amount}$, текущее количество денег на счету: {balance}$\")\n",
    "\n",
    "def withdrawMoney(amount):\n",
    "    global balance\n",
    "    if hasEnoughMoney(amount):\n",
    "        balance = balance - amount\n",
    "        print(f\"Снято {amount}$, остаток на счету: {balance}$\")\n",
    "    else:\n",
    "        print(f\"Недостаточно денег, для снятия {amount}$ не хватает {amount - balance}$\")\n",
    "\n",
    "def hasEnoughMoney(amount):\n",
    "    if balance - amount >= 0:\n",
    "        return True\n",
    "    else:\n",
    "        return False    \n",
    "            \n",
    "\n",
    "\n",
    "printBalance()\n",
    "depositMoney(50)\n",
    "withdrawMoney(100)\n",
    "depositMoney(49.5)\n",
    "printBalance()\n",
    "withdrawMoney(100)\n",
    "withdrawMoney(60)"
   ]
  },
  {
   "cell_type": "code",
   "execution_count": 217,
   "metadata": {},
   "outputs": [
    {
     "name": "stdout",
     "output_type": "stream",
     "text": [
      "Снято 1$, остаток на счету: 38.5$\n",
      "Оплачено: Хлеб (1$)\n",
      "История покупок:\n",
      "['Хлеб']\n",
      "Снято 8$, остаток на счету: 30.5$\n",
      "Оплачено: Оплата за интернет (8$)\n",
      "Снято 3.5$, остаток на счету: 27.0$\n",
      "Оплачено: Поездка на такси (3.5$)\n",
      "История покупок:\n",
      "['Поездка на такси', 'Оплата за интернет', 'Хлеб']\n",
      "Пользователь Oleg имеет 27.0$\n",
      "Недостаточно денег для оплаты Штаны\n",
      "Зачислено 200$, текущее количество денег на счету: 227.0$\n",
      "Снято 40$, остаток на счету: 187.0$\n",
      "Оплачено: Штаны (40$)\n",
      "Снято 8$, остаток на счету: 179.0$\n",
      "Оплачено: Подписка на сервис №1 (8$)\n",
      "Снято 8$, остаток на счету: 171.0$\n",
      "Оплачено: Подписка на сервис №2 (8$)\n",
      "История покупок:\n",
      "['Подписка на сервис №2', 'Подписка на сервис №1', 'Штаны', 'Поездка на такси', 'Оплата за интернет', 'Хлеб']\n"
     ]
    }
   ],
   "source": [
    "from IPython.utils.path import random\n",
    "\n",
    "\n",
    "transactions = []\n",
    "\n",
    "def printTransactions():\n",
    "    print(\"История покупок:\")\n",
    "    print(list(reversed(transactions)))\n",
    "\n",
    "def pay(reason, amount):\n",
    "    if hasEnoughMoney(amount):\n",
    "        withdrawMoney(amount)\n",
    "        transactions.append(reason)\n",
    "        print(f\"Оплачено: {reason} ({amount}$)\")\n",
    "    else:\n",
    "        print(f\"Недостаточно денег для оплаты {reason}\")\n",
    "\n",
    "pay(\"Хлеб\", 1)\n",
    "printTransactions()\n",
    "pay(\"Оплата за интернет\", 8)\n",
    "pay(\"Поездка на такси\", 3.50)\n",
    "printTransactions()\n",
    "printBalance()\n",
    "pay(\"Штаны\", 40)\n",
    "depositMoney(200)\n",
    "pay(\"Штаны\", 40)\n",
    "for i in range(1, random.randint(2, 5)):\n",
    "    pay(f\"Подписка на сервис №{i}\", random.randint(1, 10))\n",
    "printTransactions()"
   ]
  },
  {
   "cell_type": "code",
   "execution_count": 218,
   "metadata": {},
   "outputs": [
    {
     "name": "stdout",
     "output_type": "stream",
     "text": [
      "Слишком легкий пароль\n",
      "Создан пользователь с именем Bob\n",
      "Пользователь с именем Bob уже существует\n",
      "{'Bob': '123456'}\n",
      "Создан пользователь с именем John\n",
      "Создан пользователь с именем Boris\n",
      "Создан пользователь с именем Ivan\n",
      "Список пользователей:\n",
      "['Bob', 'John', 'Boris', 'Ivan']\n",
      "{'Bob': '123456', 'John': 'qwerty', 'Boris': 'Y8Wp2y3hSc40', 'Ivan': 'ivan2004'}\n"
     ]
    }
   ],
   "source": [
    "accounts = {}\n",
    "def printUsers():\n",
    "    temp = []\n",
    "    for key in accounts.keys():\n",
    "        temp.append(key)\n",
    "    print(\"Список пользователей:\")\n",
    "    print(temp)   \n",
    "        \n",
    "def printUsersWithPasswords():\n",
    "    print(accounts)        \n",
    "\n",
    "def isUserExists(name):\n",
    "    if name in accounts:\n",
    "        return True\n",
    "    else:\n",
    "        return False    \n",
    "\n",
    "def addUser(name, password):\n",
    "    if isUserExists(name):\n",
    "        print(f\"Пользователь с именем {name} уже существует\")\n",
    "        return\n",
    "    if len(password) < 6:\n",
    "        print(\"Слишком легкий пароль\")\n",
    "        return\n",
    "    accounts[name] = password\n",
    "    print(f\"Создан пользователь с именем {name}\")   \n",
    "    \n",
    "addUser(\"Bob\", \"12345\")\n",
    "addUser(\"Bob\", \"123456\")\n",
    "addUser(\"Bob\", \"1234567\")\n",
    "printUsersWithPasswords()\n",
    "\n",
    "addUser(\"John\", \"qwerty\")\n",
    "addUser(\"Boris\", \"Y8Wp2y3hSc40\")\n",
    "addUser(\"Ivan\", \"ivan2004\")\n",
    "printUsers()\n",
    "printUsersWithPasswords()\n",
    "        "
   ]
  },
  {
   "cell_type": "code",
   "execution_count": 219,
   "metadata": {},
   "outputs": [
    {
     "name": "stdout",
     "output_type": "stream",
     "text": [
      "user: John; password: qwerty\n",
      "Пользователя с именем John23 не существует\n",
      "Неверный пароль\n",
      "{'Bob': '123456', 'John': 'qwerty', 'Boris': 'Y8Wp2y3hSc40', 'Ivan': 'ivan2004'}\n",
      "Пароль пользователя John успешно изменен\n",
      "{'Bob': '123456', 'John': 'zxcvbn', 'Boris': 'Y8Wp2y3hSc40', 'Ivan': 'ivan2004'}\n"
     ]
    }
   ],
   "source": [
    "def getUserInfo(name):\n",
    "    if isUserExists(name):  \n",
    "        print(f\"user: {name}; password: {accounts[name]}\")\n",
    "\n",
    "def isPasswordCorrect(name, password):\n",
    "    if accounts[name] == password:\n",
    "        return True\n",
    "    else:\n",
    "        return False\n",
    "\n",
    "def changePassword(name, oldPassword, newPassword):\n",
    "    if not isUserExists(name):\n",
    "        print(f\"Пользователя с именем {name} не существует\")\n",
    "        return\n",
    "    if not isPasswordCorrect(name, oldPassword):\n",
    "        print(\"Неверный пароль\")\n",
    "        return\n",
    "    else:\n",
    "        accounts[name] = newPassword\n",
    "        print(f\"Пароль пользователя {name} успешно изменен\")   \n",
    "        \n",
    "getUserInfo(\"John\")\n",
    "changePassword(\"John23\", \"qwerty\", \"zxcvbn\")\n",
    "changePassword(\"John\", \"qwertyyyy\", \"zxcvbn\")\n",
    "printUsersWithPasswords()\n",
    "changePassword(\"John\", \"qwerty\", \"zxcvbn\")\n",
    "printUsersWithPasswords() "
   ]
  },
  {
   "cell_type": "code",
   "execution_count": 220,
   "metadata": {},
   "outputs": [
    {
     "name": "stdout",
     "output_type": "stream",
     "text": [
      "Список пользователей:\n",
      "['Bob', 'John', 'Boris', 'Ivan']\n",
      "Пользователя с именем bob не существует\n",
      "Список пользователей:\n",
      "['Bob', 'John', 'Boris', 'Ivan']\n",
      "Пользователь Bob удален\n",
      "Список пользователей:\n",
      "['John', 'Boris', 'Ivan']\n"
     ]
    }
   ],
   "source": [
    "def deleteUser(name):\n",
    "    if isUserExists(name):\n",
    "        accounts.pop(name)\n",
    "        print(f\"Пользователь {name} удален\")\n",
    "    else:\n",
    "        print(f\"Пользователя с именем {name} не существует\")\n",
    "          \n",
    "printUsers()        \n",
    "deleteUser(\"bob\")\n",
    "printUsers()\n",
    "deleteUser(\"Bob\") \n",
    "printUsers()       "
   ]
  },
  {
   "cell_type": "code",
   "execution_count": 221,
   "metadata": {},
   "outputs": [
    {
     "name": "stdout",
     "output_type": "stream",
     "text": [
      "{'John': 'zxcvbn', 'Boris': 'Y8Wp2y3hSc40', 'Ivan': 'ivan2004'}\n",
      "Пользователь Ivan переименован в Kolyvan\n",
      "{'John': 'zxcvbn', 'Boris': 'Y8Wp2y3hSc40', 'Kolyvan': 'ivan2004'}\n"
     ]
    }
   ],
   "source": [
    "def renameUser(oldName, newName):\n",
    "    if not isUserExists(oldName):\n",
    "        print(f\"Пользователя с именем {oldName} не существует\")\n",
    "        return\n",
    "    if isUserExists(newName):\n",
    "        print(f\"Пользователь с именем {newName} уже существует\")\n",
    "        return\n",
    "    accounts[newName] = accounts[oldName]\n",
    "    accounts.pop(oldName)\n",
    "    print(f\"Пользователь {oldName} переименован в {newName}\")\n",
    "    \n",
    "printUsersWithPasswords()\n",
    "renameUser(\"Ivan\", \"Kolyvan\")     \n",
    "printUsersWithPasswords()   \n",
    "    "
   ]
  }
 ],
 "metadata": {
  "kernelspec": {
   "display_name": "Python 3.10.7 64-bit",
   "language": "python",
   "name": "python3"
  },
  "language_info": {
   "codemirror_mode": {
    "name": "ipython",
    "version": 3
   },
   "file_extension": ".py",
   "mimetype": "text/x-python",
   "name": "python",
   "nbconvert_exporter": "python",
   "pygments_lexer": "ipython3",
   "version": "3.10.7"
  },
  "orig_nbformat": 4,
  "vscode": {
   "interpreter": {
    "hash": "42677d45e0b3938daefa4dc66435331f25031b22c120654c7acc930adfc84270"
   }
  }
 },
 "nbformat": 4,
 "nbformat_minor": 2
}
